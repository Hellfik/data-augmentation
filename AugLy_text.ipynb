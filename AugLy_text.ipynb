{
  "nbformat": 4,
  "nbformat_minor": 0,
  "metadata": {
    "colab": {
      "name": "AugLy_text.ipynb",
      "provenance": [],
      "collapsed_sections": []
    },
    "kernelspec": {
      "name": "python3",
      "display_name": "Python 3"
    },
    "language_info": {
      "name": "python"
    }
  },
  "cells": [
    {
      "cell_type": "code",
      "metadata": {
        "id": "ABLd8on9lFwK",
        "colab": {
          "base_uri": "https://localhost:8080/",
          "height": 1000
        },
        "outputId": "23289708-1a0e-432c-906c-cad30b8f11fc"
      },
      "source": [
        "# Note: restart runtime after this import before running the augmentations\n",
        "!pip install -U augly\n",
        "!sudo apt-get install python3-magic"
      ],
      "execution_count": null,
      "outputs": [
        {
          "output_type": "stream",
          "text": [
            "Collecting augly\n",
            "\u001b[?25l  Downloading https://files.pythonhosted.org/packages/eb/2f/90a217ee9b4e07db2a7be24d7d9a0ca285adee6225a8540408ed53bb4cab/augly-0.1.2-py3-none-any.whl (40.1MB)\n",
            "\u001b[K     |████████████████████████████████| 40.1MB 77kB/s \n",
            "\u001b[?25hCollecting iopath==0.1.8\n",
            "  Downloading https://files.pythonhosted.org/packages/21/d0/22104caed16fa41382702fed959f4a9b088b2f905e7a82e4483180a2ec2a/iopath-0.1.8-py3-none-any.whl\n",
            "Requirement already satisfied, skipping upgrade: cycler==0.10.0 in /usr/local/lib/python3.7/dist-packages (from augly) (0.10.0)\n",
            "Collecting future==0.18.2\n",
            "\u001b[?25l  Downloading https://files.pythonhosted.org/packages/45/0b/38b06fd9b92dc2b68d58b75f900e97884c45bedd2ff83203d933cf5851c9/future-0.18.2.tar.gz (829kB)\n",
            "\u001b[K     |████████████████████████████████| 829kB 42.1MB/s \n",
            "\u001b[?25hRequirement already satisfied, skipping upgrade: kiwisolver==1.3.1 in /usr/local/lib/python3.7/dist-packages (from augly) (1.3.1)\n",
            "Requirement already satisfied, skipping upgrade: joblib==1.0.1 in /usr/local/lib/python3.7/dist-packages (from augly) (1.0.1)\n",
            "Requirement already satisfied, skipping upgrade: torch==1.9.0 in /usr/local/lib/python3.7/dist-packages (from augly) (1.9.0+cu102)\n",
            "Collecting portalocker==2.3.0\n",
            "  Downloading https://files.pythonhosted.org/packages/68/33/cb524f4de298509927b90aa5ee34767b9a2b93e663cf354b2a3efa2b4acd/portalocker-2.3.0-py2.py3-none-any.whl\n",
            "Collecting chardet==4.0.0\n",
            "\u001b[?25l  Downloading https://files.pythonhosted.org/packages/19/c7/fa589626997dd07bd87d9269342ccb74b1720384a4d739a1872bd84fbe68/chardet-4.0.0-py2.py3-none-any.whl (178kB)\n",
            "\u001b[K     |████████████████████████████████| 184kB 45.9MB/s \n",
            "\u001b[?25hRequirement already satisfied, skipping upgrade: idna==2.10 in /usr/local/lib/python3.7/dist-packages (from augly) (2.10)\n",
            "Requirement already satisfied, skipping upgrade: pycparser==2.20 in /usr/local/lib/python3.7/dist-packages (from augly) (2.20)\n",
            "Collecting llvmlite==0.36.0\n",
            "\u001b[?25l  Downloading https://files.pythonhosted.org/packages/54/25/2b4015e2b0c3be2efa6870cf2cf2bd969dd0e5f937476fc13c102209df32/llvmlite-0.36.0-cp37-cp37m-manylinux2010_x86_64.whl (25.3MB)\n",
            "\u001b[K     |████████████████████████████████| 25.3MB 127kB/s \n",
            "\u001b[?25hCollecting scipy==1.6.2\n",
            "\u001b[?25l  Downloading https://files.pythonhosted.org/packages/75/91/ee427c42957f8c4cbe477bf4f8b7f608e003a17941e509d1777e58648cb3/scipy-1.6.2-cp37-cp37m-manylinux1_x86_64.whl (27.4MB)\n",
            "\u001b[K     |████████████████████████████████| 27.4MB 112kB/s \n",
            "\u001b[?25hCollecting decorator==5.0.9\n",
            "  Downloading https://files.pythonhosted.org/packages/6a/36/b1b9bfdf28690ae01d9ca0aa5b0d07cb4448ac65fb91dc7e2d094e3d992f/decorator-5.0.9-py3-none-any.whl\n",
            "Requirement already satisfied, skipping upgrade: resampy==0.2.2 in /usr/local/lib/python3.7/dist-packages (from augly) (0.2.2)\n",
            "Requirement already satisfied, skipping upgrade: pyparsing==2.4.7 in /usr/local/lib/python3.7/dist-packages (from augly) (2.4.7)\n",
            "Collecting torchaudio==0.9.0\n",
            "\u001b[?25l  Downloading https://files.pythonhosted.org/packages/a8/20/eab40caad8f4b97f5e91a5de8ba5ec29115e08fa4c9a808725490b7b4844/torchaudio-0.9.0-cp37-cp37m-manylinux1_x86_64.whl (1.9MB)\n",
            "\u001b[K     |████████████████████████████████| 1.9MB 45.6MB/s \n",
            "\u001b[?25hCollecting nlpaug==1.1.3\n",
            "\u001b[?25l  Downloading https://files.pythonhosted.org/packages/eb/f8/b11caecdd19aa2b1b2cb46c6cbbec692abd621aad884e653e459a8546add/nlpaug-1.1.3-py3-none-any.whl (394kB)\n",
            "\u001b[K     |████████████████████████████████| 399kB 44.3MB/s \n",
            "\u001b[?25hCollecting yacs==0.1.6\n",
            "  Downloading https://files.pythonhosted.org/packages/2f/51/9d613d67a8561a0cdf696c3909870f157ed85617fea3cff769bb7de09ef7/yacs-0.1.6-py3-none-any.whl\n",
            "Requirement already satisfied, skipping upgrade: certifi==2021.5.30 in /usr/local/lib/python3.7/dist-packages (from augly) (2021.5.30)\n",
            "Requirement already satisfied, skipping upgrade: cffi in /usr/local/lib/python3.7/dist-packages (from augly) (1.14.5)\n",
            "Collecting tqdm==4.59.0\n",
            "\u001b[?25l  Downloading https://files.pythonhosted.org/packages/f8/3e/2730d0effc282960dbff3cf91599ad0d8f3faedc8e75720fdf224b31ab24/tqdm-4.59.0-py2.py3-none-any.whl (74kB)\n",
            "\u001b[K     |████████████████████████████████| 81kB 11.5MB/s \n",
            "\u001b[?25hCollecting scikit-learn==0.24.2\n",
            "\u001b[?25l  Downloading https://files.pythonhosted.org/packages/a8/eb/a48f25c967526b66d5f1fa7a984594f0bf0a5afafa94a8c4dbc317744620/scikit_learn-0.24.2-cp37-cp37m-manylinux2010_x86_64.whl (22.3MB)\n",
            "\u001b[K     |████████████████████████████████| 22.3MB 61.5MB/s \n",
            "\u001b[?25hCollecting matplotlib==3.3.4\n",
            "\u001b[?25l  Downloading https://files.pythonhosted.org/packages/23/3d/db9a6b3c83c9511301152dbb64a029c3a4313c86eaef12c237b13ecf91d6/matplotlib-3.3.4-cp37-cp37m-manylinux1_x86_64.whl (11.5MB)\n",
            "\u001b[K     |████████████████████████████████| 11.6MB 18.7MB/s \n",
            "\u001b[?25hRequirement already satisfied, skipping upgrade: python-dateutil==2.8.1 in /usr/local/lib/python3.7/dist-packages (from augly) (2.8.1)\n",
            "Collecting regex==2021.4.4\n",
            "\u001b[?25l  Downloading https://files.pythonhosted.org/packages/c4/28/5f08d8841013ccf72cd95dfff2500fe7fb39467af12c5e7b802d8381d811/regex-2021.4.4-cp37-cp37m-manylinux2014_x86_64.whl (720kB)\n",
            "\u001b[K     |████████████████████████████████| 727kB 35.0MB/s \n",
            "\u001b[?25hCollecting olefile==0.46\n",
            "\u001b[?25l  Downloading https://files.pythonhosted.org/packages/34/81/e1ac43c6b45b4c5f8d9352396a14144bba52c8fec72a80f425f6a4d653ad/olefile-0.46.zip (112kB)\n",
            "\u001b[K     |████████████████████████████████| 112kB 48.9MB/s \n",
            "\u001b[?25hCollecting PyYAML==5.4.1\n",
            "\u001b[?25l  Downloading https://files.pythonhosted.org/packages/7a/a5/393c087efdc78091afa2af9f1378762f9821c9c1d7a22c5753fb5ac5f97a/PyYAML-5.4.1-cp37-cp37m-manylinux1_x86_64.whl (636kB)\n",
            "\u001b[K     |████████████████████████████████| 645kB 39.3MB/s \n",
            "\u001b[?25hCollecting python-magic==0.4.22\n",
            "  Downloading https://files.pythonhosted.org/packages/ba/7c/1d1d4bdda29bfec662b9b50951dee2dddf7747d3cbf7777f3d1c63372bd0/python_magic-0.4.22-py2.py3-none-any.whl\n",
            "Collecting pooch==1.3.0\n",
            "\u001b[?25l  Downloading https://files.pythonhosted.org/packages/40/b9/9876662636ba451d4406543047c0b45ca5b4e830f931308c8274dad1db43/pooch-1.3.0-py3-none-any.whl (51kB)\n",
            "\u001b[K     |████████████████████████████████| 61kB 7.4MB/s \n",
            "\u001b[?25hCollecting urllib3==1.26.4\n",
            "\u001b[?25l  Downloading https://files.pythonhosted.org/packages/09/c6/d3e3abe5b4f4f16cf0dfc9240ab7ce10c2baa0e268989a4e3ec19e90c84e/urllib3-1.26.4-py2.py3-none-any.whl (153kB)\n",
            "\u001b[K     |████████████████████████████████| 153kB 43.0MB/s \n",
            "\u001b[?25hRequirement already satisfied, skipping upgrade: PySocks==1.7.1 in /usr/local/lib/python3.7/dist-packages (from augly) (1.7.1)\n",
            "Requirement already satisfied, skipping upgrade: six==1.15.0 in /usr/local/lib/python3.7/dist-packages (from augly) (1.15.0)\n",
            "Requirement already satisfied, skipping upgrade: packaging==20.9 in /usr/local/lib/python3.7/dist-packages (from augly) (20.9)\n",
            "Requirement already satisfied, skipping upgrade: librosa==0.8.1 in /usr/local/lib/python3.7/dist-packages (from augly) (0.8.1)\n",
            "Requirement already satisfied, skipping upgrade: SoundFile==0.10.3.post1 in /usr/local/lib/python3.7/dist-packages (from augly) (0.10.3.post1)\n",
            "Collecting cryptography\n",
            "\u001b[?25l  Downloading https://files.pythonhosted.org/packages/b2/26/7af637e6a7e87258b963f1731c5982fb31cd507f0d90d91836e446955d02/cryptography-3.4.7-cp36-abi3-manylinux2014_x86_64.whl (3.2MB)\n",
            "\u001b[K     |████████████████████████████████| 3.2MB 25.2MB/s \n",
            "\u001b[?25hCollecting ffmpeg-python==0.2.0\n",
            "  Downloading https://files.pythonhosted.org/packages/d7/0c/56be52741f75bad4dc6555991fabd2e07b432d333da82c11ad701123888a/ffmpeg_python-0.2.0-py3-none-any.whl\n",
            "Collecting opencv-python==4.5.2.54\n",
            "\u001b[?25l  Downloading https://files.pythonhosted.org/packages/72/b3/3878691fec6babd78bbf4c71c720e1831cbb6ada61679613fe2fae080568/opencv_python-4.5.2.54-cp37-cp37m-manylinux2014_x86_64.whl (51.0MB)\n",
            "\u001b[K     |████████████████████████████████| 51.0MB 58kB/s \n",
            "\u001b[?25hCollecting numba==0.53.1\n",
            "\u001b[?25l  Downloading https://files.pythonhosted.org/packages/bb/73/d9c127eddbe3c105a33379d425b88f9dca249a6eddf39ce886494d49c3f9/numba-0.53.1-cp37-cp37m-manylinux2014_x86_64.whl (3.4MB)\n",
            "\u001b[K     |████████████████████████████████| 3.4MB 28.8MB/s \n",
            "\u001b[?25hCollecting Pillow==8.2.0\n",
            "\u001b[?25l  Downloading https://files.pythonhosted.org/packages/33/34/542152297dcc6c47a9dcb0685eac6d652d878ed3cea83bf2b23cb988e857/Pillow-8.2.0-cp37-cp37m-manylinux1_x86_64.whl (3.0MB)\n",
            "\u001b[K     |████████████████████████████████| 3.0MB 26.6MB/s \n",
            "\u001b[?25hCollecting requests==2.25.1\n",
            "\u001b[?25l  Downloading https://files.pythonhosted.org/packages/29/c1/24814557f1d22c56d50280771a17307e6bf87b70727d975fd6b2ce6b014a/requests-2.25.1-py2.py3-none-any.whl (61kB)\n",
            "\u001b[K     |████████████████████████████████| 61kB 8.6MB/s \n",
            "\u001b[?25hRequirement already satisfied, skipping upgrade: audioread==2.1.9 in /usr/local/lib/python3.7/dist-packages (from augly) (2.1.9)\n",
            "Collecting threadpoolctl==2.1.0\n",
            "  Downloading https://files.pythonhosted.org/packages/f7/12/ec3f2e203afa394a149911729357aa48affc59c20e2c1c8297a60f33f133/threadpoolctl-2.1.0-py3-none-any.whl\n",
            "Requirement already satisfied, skipping upgrade: typing-extensions==3.7.4.3 in /usr/local/lib/python3.7/dist-packages (from augly) (3.7.4.3)\n",
            "Collecting tornado==6.1\n",
            "\u001b[?25l  Downloading https://files.pythonhosted.org/packages/91/a8/9c5902233fa3c2e6a889cbd164333ddda5009669f494e3fadbeee2c03af5/tornado-6.1-cp37-cp37m-manylinux2010_x86_64.whl (428kB)\n",
            "\u001b[K     |████████████████████████████████| 430kB 60.4MB/s \n",
            "\u001b[?25hRequirement already satisfied, skipping upgrade: numpy>=1.19.5 in /usr/local/lib/python3.7/dist-packages (from augly) (1.19.5)\n",
            "Requirement already satisfied, skipping upgrade: appdirs==1.4.4 in /usr/local/lib/python3.7/dist-packages (from augly) (1.4.4)\n",
            "Requirement already satisfied, skipping upgrade: setuptools in /usr/local/lib/python3.7/dist-packages (from numba==0.53.1->augly) (57.0.0)\n",
            "Building wheels for collected packages: future, olefile\n",
            "  Building wheel for future (setup.py) ... \u001b[?25l\u001b[?25hdone\n",
            "  Created wheel for future: filename=future-0.18.2-cp37-none-any.whl size=491070 sha256=793df0fbc40dee57a6f87bc21e98ccf80c02b441afe98d3c00f322aec780b9be\n",
            "  Stored in directory: /root/.cache/pip/wheels/8b/99/a0/81daf51dcd359a9377b110a8a886b3895921802d2fc1b2397e\n",
            "  Building wheel for olefile (setup.py) ... \u001b[?25l\u001b[?25hdone\n",
            "  Created wheel for olefile: filename=olefile-0.46-py2.py3-none-any.whl size=35431 sha256=7eb06d117abf6499f178db0105670015eb7e3d72cfc2dc216855ba0ee8940f9e\n",
            "  Stored in directory: /root/.cache/pip/wheels/4b/f4/11/bc4166107c27f07fd7bba707ffcb439619197638a1ac986df3\n",
            "Successfully built future olefile\n",
            "\u001b[31mERROR: networkx 2.5.1 has requirement decorator<5,>=4.3, but you'll have decorator 5.0.9 which is incompatible.\u001b[0m\n",
            "\u001b[31mERROR: moviepy 0.2.3.5 has requirement decorator<5.0,>=4.0.2, but you'll have decorator 5.0.9 which is incompatible.\u001b[0m\n",
            "\u001b[31mERROR: google-colab 1.0.0 has requirement requests~=2.23.0, but you'll have requests 2.25.1 which is incompatible.\u001b[0m\n",
            "\u001b[31mERROR: google-colab 1.0.0 has requirement tornado~=5.1.0; python_version >= \"3.0\", but you'll have tornado 6.1 which is incompatible.\u001b[0m\n",
            "\u001b[31mERROR: datascience 0.10.6 has requirement folium==0.2.1, but you'll have folium 0.8.3 which is incompatible.\u001b[0m\n",
            "\u001b[31mERROR: albumentations 0.1.12 has requirement imgaug<0.2.7,>=0.2.5, but you'll have imgaug 0.2.9 which is incompatible.\u001b[0m\n",
            "Installing collected packages: portalocker, tqdm, iopath, future, chardet, llvmlite, scipy, decorator, torchaudio, nlpaug, PyYAML, yacs, threadpoolctl, scikit-learn, Pillow, matplotlib, regex, olefile, python-magic, urllib3, requests, pooch, cryptography, ffmpeg-python, opencv-python, numba, tornado, augly\n",
            "  Found existing installation: tqdm 4.41.1\n",
            "    Uninstalling tqdm-4.41.1:\n",
            "      Successfully uninstalled tqdm-4.41.1\n",
            "  Found existing installation: future 0.16.0\n",
            "    Uninstalling future-0.16.0:\n",
            "      Successfully uninstalled future-0.16.0\n",
            "  Found existing installation: chardet 3.0.4\n",
            "    Uninstalling chardet-3.0.4:\n",
            "      Successfully uninstalled chardet-3.0.4\n",
            "  Found existing installation: llvmlite 0.34.0\n",
            "    Uninstalling llvmlite-0.34.0:\n",
            "      Successfully uninstalled llvmlite-0.34.0\n",
            "  Found existing installation: scipy 1.4.1\n",
            "    Uninstalling scipy-1.4.1:\n",
            "      Successfully uninstalled scipy-1.4.1\n",
            "  Found existing installation: decorator 4.4.2\n",
            "    Uninstalling decorator-4.4.2:\n",
            "      Successfully uninstalled decorator-4.4.2\n",
            "  Found existing installation: PyYAML 3.13\n",
            "    Uninstalling PyYAML-3.13:\n",
            "      Successfully uninstalled PyYAML-3.13\n",
            "  Found existing installation: scikit-learn 0.22.2.post1\n",
            "    Uninstalling scikit-learn-0.22.2.post1:\n",
            "      Successfully uninstalled scikit-learn-0.22.2.post1\n",
            "  Found existing installation: Pillow 7.1.2\n",
            "    Uninstalling Pillow-7.1.2:\n",
            "      Successfully uninstalled Pillow-7.1.2\n",
            "  Found existing installation: matplotlib 3.2.2\n",
            "    Uninstalling matplotlib-3.2.2:\n",
            "      Successfully uninstalled matplotlib-3.2.2\n",
            "  Found existing installation: regex 2019.12.20\n",
            "    Uninstalling regex-2019.12.20:\n",
            "      Successfully uninstalled regex-2019.12.20\n",
            "  Found existing installation: urllib3 1.24.3\n",
            "    Uninstalling urllib3-1.24.3:\n",
            "      Successfully uninstalled urllib3-1.24.3\n",
            "  Found existing installation: requests 2.23.0\n",
            "    Uninstalling requests-2.23.0:\n",
            "      Successfully uninstalled requests-2.23.0\n",
            "  Found existing installation: pooch 1.4.0\n",
            "    Uninstalling pooch-1.4.0:\n",
            "      Successfully uninstalled pooch-1.4.0\n",
            "  Found existing installation: opencv-python 4.1.2.30\n",
            "    Uninstalling opencv-python-4.1.2.30:\n",
            "      Successfully uninstalled opencv-python-4.1.2.30\n",
            "  Found existing installation: numba 0.51.2\n",
            "    Uninstalling numba-0.51.2:\n",
            "      Successfully uninstalled numba-0.51.2\n",
            "  Found existing installation: tornado 5.1.1\n",
            "    Uninstalling tornado-5.1.1:\n",
            "      Successfully uninstalled tornado-5.1.1\n",
            "Successfully installed Pillow-8.2.0 PyYAML-5.4.1 augly-0.1.2 chardet-4.0.0 cryptography-3.4.7 decorator-5.0.9 ffmpeg-python-0.2.0 future-0.18.2 iopath-0.1.8 llvmlite-0.36.0 matplotlib-3.3.4 nlpaug-1.1.3 numba-0.53.1 olefile-0.46 opencv-python-4.5.2.54 pooch-1.3.0 portalocker-2.3.0 python-magic-0.4.22 regex-2021.4.4 requests-2.25.1 scikit-learn-0.24.2 scipy-1.6.2 threadpoolctl-2.1.0 torchaudio-0.9.0 tornado-6.1 tqdm-4.59.0 urllib3-1.26.4 yacs-0.1.6\n"
          ],
          "name": "stdout"
        },
        {
          "output_type": "display_data",
          "data": {
            "application/vnd.colab-display-data+json": {
              "pip_warning": {
                "packages": [
                  "PIL",
                  "decorator",
                  "matplotlib",
                  "mpl_toolkits",
                  "tornado"
                ]
              }
            }
          },
          "metadata": {
            "tags": []
          }
        },
        {
          "output_type": "stream",
          "text": [
            "Reading package lists... Done\n",
            "Building dependency tree       \n",
            "Reading state information... Done\n",
            "The following additional packages will be installed:\n",
            "  libmagic-mgc libmagic1\n",
            "Suggested packages:\n",
            "  file\n",
            "The following NEW packages will be installed:\n",
            "  libmagic-mgc libmagic1 python3-magic\n",
            "0 upgraded, 3 newly installed, 0 to remove and 39 not upgraded.\n",
            "Need to get 262 kB of archives.\n",
            "After this operation, 5,257 kB of additional disk space will be used.\n",
            "Get:1 http://archive.ubuntu.com/ubuntu bionic-updates/main amd64 libmagic-mgc amd64 1:5.32-2ubuntu0.4 [184 kB]\n",
            "Get:2 http://archive.ubuntu.com/ubuntu bionic-updates/main amd64 libmagic1 amd64 1:5.32-2ubuntu0.4 [68.6 kB]\n",
            "Get:3 http://archive.ubuntu.com/ubuntu bionic/main amd64 python3-magic all 2:0.4.15-1 [9,280 B]\n",
            "Fetched 262 kB in 1s (235 kB/s)\n",
            "debconf: unable to initialize frontend: Dialog\n",
            "debconf: (No usable dialog-like program is installed, so the dialog based frontend cannot be used. at /usr/share/perl5/Debconf/FrontEnd/Dialog.pm line 76, <> line 3.)\n",
            "debconf: falling back to frontend: Readline\n",
            "debconf: unable to initialize frontend: Readline\n",
            "debconf: (This frontend requires a controlling tty.)\n",
            "debconf: falling back to frontend: Teletype\n",
            "dpkg-preconfigure: unable to re-open stdin: \n",
            "Selecting previously unselected package libmagic-mgc.\n",
            "(Reading database ... 160772 files and directories currently installed.)\n",
            "Preparing to unpack .../libmagic-mgc_1%3a5.32-2ubuntu0.4_amd64.deb ...\n",
            "Unpacking libmagic-mgc (1:5.32-2ubuntu0.4) ...\n",
            "Selecting previously unselected package libmagic1:amd64.\n",
            "Preparing to unpack .../libmagic1_1%3a5.32-2ubuntu0.4_amd64.deb ...\n",
            "Unpacking libmagic1:amd64 (1:5.32-2ubuntu0.4) ...\n",
            "Selecting previously unselected package python3-magic.\n",
            "Preparing to unpack .../python3-magic_2%3a0.4.15-1_all.deb ...\n",
            "Unpacking python3-magic (2:0.4.15-1) ...\n",
            "Setting up libmagic-mgc (1:5.32-2ubuntu0.4) ...\n",
            "Setting up libmagic1:amd64 (1:5.32-2ubuntu0.4) ...\n",
            "Setting up python3-magic (2:0.4.15-1) ...\n",
            "Processing triggers for man-db (2.8.3-2ubuntu0.1) ...\n",
            "Processing triggers for libc-bin (2.27-3ubuntu1.2) ...\n",
            "/sbin/ldconfig.real: /usr/local/lib/python3.7/dist-packages/ideep4py/lib/libmkldnn.so.0 is not a symbolic link\n",
            "\n"
          ],
          "name": "stdout"
        }
      ]
    },
    {
      "cell_type": "code",
      "metadata": {
        "id": "LJeIPC67lJet",
        "colab": {
          "base_uri": "https://localhost:8080/",
          "height": 35
        },
        "outputId": "3967a0d9-944a-4d28-810a-6e9d673a04f9"
      },
      "source": [
        "import augly.text as textaugs\n",
        "\n",
        "# Define input text\n",
        "input_text = \"Hello, world! How are you today?\"\n",
        "input_text"
      ],
      "execution_count": null,
      "outputs": [
        {
          "output_type": "execute_result",
          "data": {
            "application/vnd.google.colaboratory.intrinsic+json": {
              "type": "string"
            },
            "text/plain": [
              "'Hello, world! How are you today?'"
            ]
          },
          "metadata": {
            "tags": []
          },
          "execution_count": 2
        }
      ]
    },
    {
      "cell_type": "code",
      "metadata": {
        "id": "LdGl0JxjlRXR",
        "colab": {
          "base_uri": "https://localhost:8080/"
        },
        "outputId": "0f41f32c-824c-4267-a261-a88a08f2aac5"
      },
      "source": [
        "# Now we can apply various augmentations!\n",
        "print(textaugs.simulate_typos(input_text))"
      ],
      "execution_count": null,
      "outputs": [
        {
          "output_type": "stream",
          "text": [
            "Hello, worls! How are yuo today?\n"
          ],
          "name": "stdout"
        }
      ]
    },
    {
      "cell_type": "code",
      "metadata": {
        "id": "-PklmlHolR4j",
        "colab": {
          "base_uri": "https://localhost:8080/"
        },
        "outputId": "5433e40a-289e-4027-d990-87776ddb1f71"
      },
      "source": [
        "\"\"\"\n",
        "You can optionally pass in a metadata list, to which metadata about the\n",
        "augmentation will be appended including kwargs and intensity (defined based on\n",
        "the kwargs for each augmentation).\n",
        "\"\"\"\n",
        "meta = []\n",
        "print(\n",
        "    textaugs.replace_fun_fonts(\n",
        "        input_text, vary_fonts=True, granularity=\"word\", metadata=meta\n",
        "    )\n",
        ")\n",
        "meta"
      ],
      "execution_count": null,
      "outputs": [
        {
          "output_type": "stream",
          "text": [
            "H̾e̾l̾l̾o̾, world!̶ How are you today?\n"
          ],
          "name": "stdout"
        },
        {
          "output_type": "execute_result",
          "data": {
            "text/plain": [
              "[{'aug_max': 10000,\n",
              "  'aug_min': 1,\n",
              "  'aug_p': 0.3,\n",
              "  'dst_length': 38,\n",
              "  'fonts_path': '/usr/local/lib/python3.7/dist-packages/augly/assets/text/fun_fonts.json',\n",
              "  'granularity': 'word',\n",
              "  'input_type': 'string',\n",
              "  'intensity': 30.0,\n",
              "  'n': 1,\n",
              "  'name': 'replace_fun_fonts',\n",
              "  'priority_words': None,\n",
              "  'src_length': 1,\n",
              "  'vary_fonts': True}]"
            ]
          },
          "metadata": {
            "tags": []
          },
          "execution_count": 4
        }
      ]
    },
    {
      "cell_type": "code",
      "metadata": {
        "id": "_ab92YUjyM6y",
        "colab": {
          "base_uri": "https://localhost:8080/"
        },
        "outputId": "851fe4d8-d1b8-49fe-ef18-68b1a9aa1e48"
      },
      "source": [
        "# For all the augmentations, we have class-based definitions as well as\n",
        "# functional\n",
        "meta = []\n",
        "aug = textaugs.ReplaceSimilarUnicodeChars(aug_word_p=0.6)\n",
        "print(aug(input_text, metadata=meta))\n",
        "meta"
      ],
      "execution_count": null,
      "outputs": [
        {
          "output_type": "stream",
          "text": [
            "Hellọ, world! ℎow aⓡe yoŪ Ⓣoday?\n"
          ],
          "name": "stdout"
        },
        {
          "output_type": "execute_result",
          "data": {
            "text/plain": [
              "[{'aug_char_max': 1000,\n",
              "  'aug_char_min': 1,\n",
              "  'aug_char_p': 0.3,\n",
              "  'aug_word_max': 1000,\n",
              "  'aug_word_min': 1,\n",
              "  'aug_word_p': 0.6,\n",
              "  'dst_length': 32,\n",
              "  'input_type': 'string',\n",
              "  'intensity': 18.0,\n",
              "  'mapping_path': '/usr/local/lib/python3.7/dist-packages/augly/assets/text/letter_unicode_mapping.json',\n",
              "  'min_char': 2,\n",
              "  'n': 1,\n",
              "  'name': 'replace_similar_unicode_chars',\n",
              "  'priority_words': None,\n",
              "  'src_length': 1}]"
            ]
          },
          "metadata": {
            "tags": []
          },
          "execution_count": 5
        }
      ]
    },
    {
      "cell_type": "code",
      "metadata": {
        "id": "9-IMYGRyzNen"
      },
      "source": [
        "# Testez d'autres transformations: https://github.com/facebookresearch/AugLy/blob/main/augly/text/__init__.py"
      ],
      "execution_count": null,
      "outputs": []
    }
  ]
}